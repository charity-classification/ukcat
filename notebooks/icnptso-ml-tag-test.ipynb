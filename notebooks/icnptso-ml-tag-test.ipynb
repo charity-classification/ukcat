{
 "cells": [
  {
   "cell_type": "markdown",
   "source": [
    "# Classify charities into ICNP/TSO categories\r\n",
    "\r\n",
    "A further test of the machine-learning model created in `icnptso-machine-learning-test.ipynb`, to see whether it's improved by using the tags applied to the sample to limit the choices of ICNPTSO codes."
   ],
   "metadata": {}
  },
  {
   "cell_type": "markdown",
   "source": [
    "## Import packages\n",
    "\n",
    "- `pandas` is used to manipulate the data\n",
    "- `sklearn.train_test_split` is used to split the sample data\n",
    "- `nltk` provides functions for preparing the data, plus a list of common stopwords"
   ],
   "metadata": {}
  },
  {
   "cell_type": "code",
   "execution_count": 109,
   "source": [
    "import re\r\n",
    "import pickle\r\n",
    "\r\n",
    "import numpy as np\r\n",
    "import pandas as pd\r\n",
    "from sklearn.model_selection import train_test_split\r\n",
    "from sklearn.metrics import accuracy_score\r\n",
    "import nltk\r\n",
    "from nltk.corpus import stopwords\r\n",
    "from nltk.stem import PorterStemmer, LancasterStemmer, WordNetLemmatizer\r\n",
    "\r\n",
    "nltk.download('stopwords')\r\n",
    "nltk.download('wordnet')"
   ],
   "outputs": [
    {
     "output_type": "stream",
     "name": "stderr",
     "text": [
      "[nltk_data] Downloading package stopwords to\n",
      "[nltk_data]     C:\\Users\\drkan\\AppData\\Roaming\\nltk_data...\n",
      "[nltk_data]   Package stopwords is already up-to-date!\n",
      "[nltk_data] Downloading package wordnet to\n",
      "[nltk_data]     C:\\Users\\drkan\\AppData\\Roaming\\nltk_data...\n",
      "[nltk_data]   Package wordnet is already up-to-date!\n"
     ]
    },
    {
     "output_type": "execute_result",
     "data": {
      "text/plain": [
       "True"
      ]
     },
     "metadata": {},
     "execution_count": 109
    }
   ],
   "metadata": {}
  },
  {
   "cell_type": "markdown",
   "source": [
    "## Create settings\n",
    "\n",
    "These settings hold the location of files used in the process."
   ],
   "metadata": {}
  },
  {
   "cell_type": "code",
   "execution_count": 2,
   "source": [
    "MODEL_PICKLE_FILE = '../data/icnptso_ml_model.pkl'\r\n",
    "UKCAT_FILE = \"../data/ukcat.csv\"\r\n",
    "SAMPLE_FILE = \"../data/sample.csv\"\r\n",
    "TOP2000_FILE = \"../data/top2000.csv\""
   ],
   "outputs": [],
   "metadata": {}
  },
  {
   "cell_type": "markdown",
   "source": [
    "## Fetch the sample data\n",
    "\n",
    "Remove any records which don't have a ICNPTSO category included."
   ],
   "metadata": {}
  },
  {
   "cell_type": "code",
   "execution_count": 3,
   "source": [
    "df = pd.concat([\r\n",
    "    pd.read_csv(SAMPLE_FILE),\r\n",
    "    pd.read_csv(TOP2000_FILE),\r\n",
    "]).reset_index()\r\n",
    "df = df[df[\"ICNPTSO\"].notnull()]"
   ],
   "outputs": [],
   "metadata": {}
  },
  {
   "cell_type": "markdown",
   "source": [
    "## Prepare the training data\n",
    "\n",
    "Create the text corpus by combining the name and activities data. `y` is the ICNPTSO code attached to the charity."
   ],
   "metadata": {}
  },
  {
   "cell_type": "code",
   "execution_count": 4,
   "source": [
    "corpus = pd.DataFrame([df[\"name\"], df[\"activities\"]]).T.apply(lambda x: \" \".join(x), axis=1)\r\n",
    "y = df[\"ICNPTSO\"].values\r\n",
    "len(y)"
   ],
   "outputs": [
    {
     "output_type": "execute_result",
     "data": {
      "text/plain": [
       "6203"
      ]
     },
     "metadata": {},
     "execution_count": 4
    }
   ],
   "metadata": {}
  },
  {
   "cell_type": "markdown",
   "source": [
    "Prepare functions used to clean the text data before it's included in the machine learning models. \n",
    "\n",
    "[Lemmatization](https://en.wikipedia.org/wiki/Lemmatisation) is the process where words are turned into the base for of the word - for example \"walking\" becomes \"walk\", \"better\" becomes \"good\".\n",
    "\n",
    "Stopwords (common words like \"and\", \"for\", \"of\") are skipped."
   ],
   "metadata": {}
  },
  {
   "cell_type": "code",
   "execution_count": 5,
   "source": [
    "REPLACE_BY_SPACE_RE = re.compile('[/(){}\\[\\]\\|@,;]')\r\n",
    "BAD_SYMBOLS_RE = re.compile('[^0-9a-z #+_]')\r\n",
    "STOPWORDS = set(stopwords.words('english') + [\r\n",
    "    \"trust\",\r\n",
    "    \"fund\",\r\n",
    "    \"charitable\",\r\n",
    "    \"charity\",\r\n",
    "])\r\n",
    "\r\n",
    "stemmer = LancasterStemmer()\r\n",
    "lemma = WordNetLemmatizer()\r\n",
    "\r\n",
    "def stemmed_words(doc):\r\n",
    "    return (stemmer.stem(w) for w in analyzer(doc))\r\n",
    "\r\n",
    "def lemma_words(doc):\r\n",
    "    return (lemma.lemmatize(w) for w in analyzer(doc))\r\n",
    "\r\n",
    "def clean_text(text):\r\n",
    "    \"\"\"\r\n",
    "        text: a string\r\n",
    "        \r\n",
    "        return: modified initial string\r\n",
    "    \"\"\"\r\n",
    "    text = text.lower() # lowercase text\r\n",
    "    text = REPLACE_BY_SPACE_RE.sub(' ', text) # replace REPLACE_BY_SPACE_RE symbols by space in text\r\n",
    "    text = BAD_SYMBOLS_RE.sub('', text) # delete symbols which are in BAD_SYMBOLS_RE from text\r\n",
    "    text = ' '.join(lemma.lemmatize(word) for word in text.split() if word not in STOPWORDS) # delete stopwors from text\r\n",
    "    return text"
   ],
   "outputs": [],
   "metadata": {}
  },
  {
   "cell_type": "markdown",
   "source": [
    "`X` is the list of cleaned values."
   ],
   "metadata": {}
  },
  {
   "cell_type": "code",
   "execution_count": 6,
   "source": [
    "X = corpus.apply(clean_text).values\r\n",
    "np.random.choice(X, 1)"
   ],
   "outputs": [
    {
     "output_type": "execute_result",
     "data": {
      "text/plain": [
       "array(['association commonwealth university working member others promote contribute provision excellent higher education benefit people throughout commonwealth beyond administration funding student scholarship'],\n",
       "      dtype=object)"
      ]
     },
     "metadata": {},
     "execution_count": 6
    }
   ],
   "metadata": {}
  },
  {
   "cell_type": "markdown",
   "source": [
    "Produce test and train datasets from `X` and `y`."
   ],
   "metadata": {}
  },
  {
   "cell_type": "code",
   "execution_count": 7,
   "source": [
    "X_train, X_test, y_train, y_test = train_test_split(X, y, test_size=0.2, random_state = 42)\r\n",
    "len(X_test)"
   ],
   "outputs": [
    {
     "output_type": "execute_result",
     "data": {
      "text/plain": [
       "1241"
      ]
     },
     "metadata": {},
     "execution_count": 7
    }
   ],
   "metadata": {}
  },
  {
   "cell_type": "markdown",
   "source": [
    "## Fetch classification models\r\n",
    "\r\n",
    "Fetch the model produced in `icnptso-machine-learning-test.ipynb`."
   ],
   "metadata": {}
  },
  {
   "cell_type": "code",
   "execution_count": 8,
   "source": [
    "with open(MODEL_PICKLE_FILE, 'rb') as model_file:\r\n",
    "    nb = pickle.load(model_file)"
   ],
   "outputs": [],
   "metadata": {}
  },
  {
   "cell_type": "markdown",
   "source": [
    "## Work out possible ICNPTSO tags\r\n",
    "\r\n",
    "Function to fetch potential ICNPTSO tags based on the UK-CAT classification."
   ],
   "metadata": {}
  },
  {
   "cell_type": "code",
   "execution_count": 70,
   "source": [
    "# fetch the classification file\r\n",
    "ukcat = pd.read_csv(UKCAT_FILE, index_col=\"Code\")\r\n",
    "\r\n",
    "# for each classification category go through and apply the regular expression\r\n",
    "def get_icnptso_categories(x_text):\r\n",
    "    x_text = pd.Series(x_text)\r\n",
    "    results = []\r\n",
    "    for index, row in ukcat.iterrows():\r\n",
    "        if (\r\n",
    "            not isinstance(row[\"Regular expression\"], str)\r\n",
    "            or row[\"Regular expression\"] == r\"\\b()\\b\"\r\n",
    "        ):\r\n",
    "            continue\r\n",
    "        criteria = x_text.str.contains(\r\n",
    "            row[\"Regular expression\"], case=False, regex=True\r\n",
    "        )\r\n",
    "        if (\r\n",
    "            isinstance(row[\"Exclude regular expression\"], str)\r\n",
    "            and row[\"Exclude regular expression\"] != r\"\\b()\\b\"\r\n",
    "        ):\r\n",
    "            criteria = criteria & ~x_text.str.contains(\r\n",
    "                row[\"Exclude regular expression\"], case=False, regex=True\r\n",
    "            )\r\n",
    "\r\n",
    "        results.append(\r\n",
    "            pd.Series(\r\n",
    "                data=criteria,\r\n",
    "                index=x_text.index,\r\n",
    "                name=index,\r\n",
    "            )\r\n",
    "        )\r\n",
    "\r\n",
    "    results = pd.DataFrame(results).T\r\n",
    "    results = results.apply(lambda row: [ukcat[\"Related ICNPTSO code\"].fillna(\"\")[i].split(\";\") for i, v in row.iteritems() if v], axis=1)\r\n",
    "    results = results.apply(lambda x: [item for sublist in x for item in sublist])\r\n",
    "    results = results.apply(lambda x: list(set([item for item in x if item])))\r\n",
    "    return results"
   ],
   "outputs": [],
   "metadata": {}
  },
  {
   "cell_type": "markdown",
   "source": [
    "Apply the function to the test and training corpuses."
   ],
   "metadata": {}
  },
  {
   "cell_type": "code",
   "execution_count": 71,
   "source": [
    "X_train_cats = get_icnptso_categories(X_train)\r\n",
    "X_test_cats = get_icnptso_categories(X_test)\r\n",
    "X_train_cats"
   ],
   "outputs": [
    {
     "output_type": "stream",
     "name": "stderr",
     "text": [
      "c:\\Users\\drkan\\Code\\ukcat\\env\\lib\\site-packages\\pandas\\core\\strings\\accessor.py:101: UserWarning: This pattern has match groups. To actually get the groups, use str.extract.\n",
      "  return func(self, *args, **kwargs)\n"
     ]
    },
    {
     "output_type": "execute_result",
     "data": {
      "text/plain": [
       "0            [D11, A21, B31, G13, G14]\n",
       "1                           [D19, G11]\n",
       "2       [B13, D11, I10, B12, G14, B90]\n",
       "3                 [B13, B12, B32, B90]\n",
       "4                           [A10, H10]\n",
       "                     ...              \n",
       "4957         [B13, D14, B12, G13, H90]\n",
       "4958         [D12, G16, G15, D19, D13]\n",
       "4959                        [I90, I10]\n",
       "4960         [D19, G11, K10, G22, B90]\n",
       "4961                             [A11]\n",
       "Length: 4962, dtype: object"
      ]
     },
     "metadata": {},
     "execution_count": 71
    }
   ],
   "metadata": {}
  },
  {
   "cell_type": "markdown",
   "source": [
    "`predict_proba` gives use the predicted probability of every ICNP/TSO category for each organisation in the sample. This enables us to assess how confident the model is in its estimate."
   ],
   "metadata": {}
  },
  {
   "cell_type": "code",
   "execution_count": 72,
   "source": [
    "y_pred_proba = nb.predict_proba(X_test)\r\n",
    "y_pred_proba = pd.DataFrame([\r\n",
    "    dict(zip(nb.classes_, row))\r\n",
    "    for row in y_pred_proba\r\n",
    "])"
   ],
   "outputs": [],
   "metadata": {}
  },
  {
   "cell_type": "markdown",
   "source": [
    "Function to get the categories for a given row of the `y_pred_proba` dataframe. The row contains the probabilities against each ICNPTSO category. Rows are narrowed using the `X_test_cats` series created in the last cell."
   ],
   "metadata": {}
  },
  {
   "cell_type": "code",
   "execution_count": 115,
   "source": [
    "def get_cats(row):\r\n",
    "    potential_cats = [c for c in X_test_cats[row.name] if c in row.index]\r\n",
    "    source = \"ranked_tags\"\r\n",
    "    if len(potential_cats)==1:\r\n",
    "        source = \"only_one_tag\"\r\n",
    "    if len(potential_cats)==0:\r\n",
    "        source = \"all_icnptso\"\r\n",
    "        potential_cats = row.index.tolist()\r\n",
    "    result = row[potential_cats].sort_values(ascending=False).head(1)\r\n",
    "    result = list(zip(result,result.index))[0]\r\n",
    "    return {\r\n",
    "        \"icnptso_code\": result[1],\r\n",
    "        \"score\": result[0],\r\n",
    "        \"source\": source,\r\n",
    "        \"source_count\": len(potential_cats),\r\n",
    "        \"original_max_score\": row.max(),\r\n",
    "        \"original_icnptso_code\": row.idxmax(),\r\n",
    "        \"actual_icnptso_code\": y_test[row.name],\r\n",
    "    }\r\n",
    "\r\n",
    "result = y_pred_proba.apply(get_cats, axis=1, result_type='expand')\r\n",
    "result"
   ],
   "outputs": [
    {
     "output_type": "execute_result",
     "data": {
      "text/plain": [
       "     icnptso_code     score       source  source_count  original_max_score  \\\n",
       "0             D11  0.899893  ranked_tags             7            0.899893   \n",
       "1             D13  0.989706  ranked_tags             3            0.989706   \n",
       "2             G11  1.000000  ranked_tags             8            1.000000   \n",
       "3             D19  0.000940  ranked_tags             5            0.999059   \n",
       "4             A11  0.999885  ranked_tags             2            0.999885   \n",
       "...           ...       ...          ...           ...                 ...   \n",
       "1236          D11  0.459962  ranked_tags             5            0.459962   \n",
       "1237          A21  1.000000  ranked_tags             3            1.000000   \n",
       "1238          K10  0.004695  ranked_tags             2            0.995273   \n",
       "1239          I10  0.999993  ranked_tags             2            0.999993   \n",
       "1240          D12  0.938883  ranked_tags             9            0.938883   \n",
       "\n",
       "     original_icnptso_code actual_icnptso_code  \n",
       "0                      D11                 D13  \n",
       "1                      D13                 C12  \n",
       "2                      G11                 G11  \n",
       "3                      C11                 C11  \n",
       "4                      A11                 A11  \n",
       "...                    ...                 ...  \n",
       "1236                   D11                 D19  \n",
       "1237                   A21                 A21  \n",
       "1238                   C12                 C12  \n",
       "1239                   I10                 I10  \n",
       "1240                   D12                 G15  \n",
       "\n",
       "[1241 rows x 7 columns]"
      ],
      "text/html": [
       "<div>\n",
       "<style scoped>\n",
       "    .dataframe tbody tr th:only-of-type {\n",
       "        vertical-align: middle;\n",
       "    }\n",
       "\n",
       "    .dataframe tbody tr th {\n",
       "        vertical-align: top;\n",
       "    }\n",
       "\n",
       "    .dataframe thead th {\n",
       "        text-align: right;\n",
       "    }\n",
       "</style>\n",
       "<table border=\"1\" class=\"dataframe\">\n",
       "  <thead>\n",
       "    <tr style=\"text-align: right;\">\n",
       "      <th></th>\n",
       "      <th>icnptso_code</th>\n",
       "      <th>score</th>\n",
       "      <th>source</th>\n",
       "      <th>source_count</th>\n",
       "      <th>original_max_score</th>\n",
       "      <th>original_icnptso_code</th>\n",
       "      <th>actual_icnptso_code</th>\n",
       "    </tr>\n",
       "  </thead>\n",
       "  <tbody>\n",
       "    <tr>\n",
       "      <th>0</th>\n",
       "      <td>D11</td>\n",
       "      <td>0.899893</td>\n",
       "      <td>ranked_tags</td>\n",
       "      <td>7</td>\n",
       "      <td>0.899893</td>\n",
       "      <td>D11</td>\n",
       "      <td>D13</td>\n",
       "    </tr>\n",
       "    <tr>\n",
       "      <th>1</th>\n",
       "      <td>D13</td>\n",
       "      <td>0.989706</td>\n",
       "      <td>ranked_tags</td>\n",
       "      <td>3</td>\n",
       "      <td>0.989706</td>\n",
       "      <td>D13</td>\n",
       "      <td>C12</td>\n",
       "    </tr>\n",
       "    <tr>\n",
       "      <th>2</th>\n",
       "      <td>G11</td>\n",
       "      <td>1.000000</td>\n",
       "      <td>ranked_tags</td>\n",
       "      <td>8</td>\n",
       "      <td>1.000000</td>\n",
       "      <td>G11</td>\n",
       "      <td>G11</td>\n",
       "    </tr>\n",
       "    <tr>\n",
       "      <th>3</th>\n",
       "      <td>D19</td>\n",
       "      <td>0.000940</td>\n",
       "      <td>ranked_tags</td>\n",
       "      <td>5</td>\n",
       "      <td>0.999059</td>\n",
       "      <td>C11</td>\n",
       "      <td>C11</td>\n",
       "    </tr>\n",
       "    <tr>\n",
       "      <th>4</th>\n",
       "      <td>A11</td>\n",
       "      <td>0.999885</td>\n",
       "      <td>ranked_tags</td>\n",
       "      <td>2</td>\n",
       "      <td>0.999885</td>\n",
       "      <td>A11</td>\n",
       "      <td>A11</td>\n",
       "    </tr>\n",
       "    <tr>\n",
       "      <th>...</th>\n",
       "      <td>...</td>\n",
       "      <td>...</td>\n",
       "      <td>...</td>\n",
       "      <td>...</td>\n",
       "      <td>...</td>\n",
       "      <td>...</td>\n",
       "      <td>...</td>\n",
       "    </tr>\n",
       "    <tr>\n",
       "      <th>1236</th>\n",
       "      <td>D11</td>\n",
       "      <td>0.459962</td>\n",
       "      <td>ranked_tags</td>\n",
       "      <td>5</td>\n",
       "      <td>0.459962</td>\n",
       "      <td>D11</td>\n",
       "      <td>D19</td>\n",
       "    </tr>\n",
       "    <tr>\n",
       "      <th>1237</th>\n",
       "      <td>A21</td>\n",
       "      <td>1.000000</td>\n",
       "      <td>ranked_tags</td>\n",
       "      <td>3</td>\n",
       "      <td>1.000000</td>\n",
       "      <td>A21</td>\n",
       "      <td>A21</td>\n",
       "    </tr>\n",
       "    <tr>\n",
       "      <th>1238</th>\n",
       "      <td>K10</td>\n",
       "      <td>0.004695</td>\n",
       "      <td>ranked_tags</td>\n",
       "      <td>2</td>\n",
       "      <td>0.995273</td>\n",
       "      <td>C12</td>\n",
       "      <td>C12</td>\n",
       "    </tr>\n",
       "    <tr>\n",
       "      <th>1239</th>\n",
       "      <td>I10</td>\n",
       "      <td>0.999993</td>\n",
       "      <td>ranked_tags</td>\n",
       "      <td>2</td>\n",
       "      <td>0.999993</td>\n",
       "      <td>I10</td>\n",
       "      <td>I10</td>\n",
       "    </tr>\n",
       "    <tr>\n",
       "      <th>1240</th>\n",
       "      <td>D12</td>\n",
       "      <td>0.938883</td>\n",
       "      <td>ranked_tags</td>\n",
       "      <td>9</td>\n",
       "      <td>0.938883</td>\n",
       "      <td>D12</td>\n",
       "      <td>G15</td>\n",
       "    </tr>\n",
       "  </tbody>\n",
       "</table>\n",
       "<p>1241 rows × 7 columns</p>\n",
       "</div>"
      ]
     },
     "metadata": {},
     "execution_count": 115
    }
   ],
   "metadata": {}
  },
  {
   "cell_type": "markdown",
   "source": [
    "Test the results against the result from the original Model."
   ],
   "metadata": {}
  },
  {
   "cell_type": "code",
   "execution_count": 116,
   "source": [
    "accuracy_score(result[\"icnptso_code\"], result[\"actual_icnptso_code\"])"
   ],
   "outputs": [
    {
     "output_type": "execute_result",
     "data": {
      "text/plain": [
       "0.5213537469782433"
      ]
     },
     "metadata": {},
     "execution_count": 116
    }
   ],
   "metadata": {}
  },
  {
   "cell_type": "code",
   "execution_count": 117,
   "source": [
    "accuracy_score(result[\"original_icnptso_code\"], result[\"actual_icnptso_code\"])"
   ],
   "outputs": [
    {
     "output_type": "execute_result",
     "data": {
      "text/plain": [
       "0.5576148267526189"
      ]
     },
     "metadata": {},
     "execution_count": 117
    }
   ],
   "metadata": {}
  },
  {
   "cell_type": "code",
   "execution_count": 118,
   "source": [
    "accuracy_score(result[\"icnptso_code\"], result[\"original_icnptso_code\"])"
   ],
   "outputs": [
    {
     "output_type": "execute_result",
     "data": {
      "text/plain": [
       "0.7268331990330379"
      ]
     },
     "metadata": {},
     "execution_count": 118
    }
   ],
   "metadata": {}
  },
  {
   "cell_type": "markdown",
   "source": [
    "Which method was used to get the ICNPTSO code?"
   ],
   "metadata": {}
  },
  {
   "cell_type": "code",
   "execution_count": 122,
   "source": [
    "result[\"source\"].value_counts()"
   ],
   "outputs": [
    {
     "output_type": "execute_result",
     "data": {
      "text/plain": [
       "ranked_tags     1007\n",
       "only_one_tag     171\n",
       "all_icnptso       63\n",
       "Name: source, dtype: int64"
      ]
     },
     "metadata": {},
     "execution_count": 122
    }
   ],
   "metadata": {}
  },
  {
   "cell_type": "markdown",
   "source": [
    "How many source tags were available?"
   ],
   "metadata": {}
  },
  {
   "cell_type": "code",
   "execution_count": 120,
   "source": [
    "result[\"source_count\"].value_counts().sort_index()"
   ],
   "outputs": [
    {
     "output_type": "execute_result",
     "data": {
      "text/plain": [
       "1     171\n",
       "2     231\n",
       "3     183\n",
       "4     170\n",
       "5     140\n",
       "6     108\n",
       "7      63\n",
       "8      39\n",
       "9      31\n",
       "10     15\n",
       "11      8\n",
       "12      6\n",
       "13      7\n",
       "14      2\n",
       "15      2\n",
       "16      1\n",
       "18      1\n",
       "86     63\n",
       "Name: source_count, dtype: int64"
      ]
     },
     "metadata": {},
     "execution_count": 120
    }
   ],
   "metadata": {}
  },
  {
   "cell_type": "markdown",
   "source": [
    "Testing the accuracy for various numbers of potential categories from the tags. Here `1` equals one possible ICNPTSO category from the tags."
   ],
   "metadata": {}
  },
  {
   "cell_type": "code",
   "execution_count": 136,
   "source": [
    "tests = {\r\n",
    "    \"1\": result[\"source_count\"]==1,\r\n",
    "    \"2\": result[\"source_count\"]==2,\r\n",
    "    \"3-5\": result[\"source_count\"].between(3, 5),\r\n",
    "    \"5+\": result[\"source_count\"].between(5, 85),\r\n",
    "    \"all\": result[\"source_count\"]==86,\r\n",
    "}\r\n",
    "pd.DataFrame([\r\n",
    "    pd.Series(\r\n",
    "        data=[accuracy_score(\r\n",
    "            result.loc[criteria,\"icnptso_code\"],\r\n",
    "            result.loc[criteria,\"actual_icnptso_code\"],\r\n",
    "        ) for criteria in tests.values()],\r\n",
    "        index=tests.keys()\r\n",
    "    ).rename(\"tags_method\"),\r\n",
    "    pd.Series(\r\n",
    "        data=[accuracy_score(\r\n",
    "            result.loc[criteria,\"original_icnptso_code\"],\r\n",
    "            result.loc[criteria,\"actual_icnptso_code\"],\r\n",
    "        ) for criteria in tests.values()],\r\n",
    "        index=tests.keys()\r\n",
    "    ).rename(\"just_model_method\"),\r\n",
    "]).T"
   ],
   "outputs": [
    {
     "output_type": "execute_result",
     "data": {
      "text/plain": [
       "     tags_method  just_model_method\n",
       "1       0.625731           0.672515\n",
       "2       0.497835           0.562771\n",
       "3-5     0.515213           0.537525\n",
       "5+      0.463357           0.505910\n",
       "all     0.539683           0.539683"
      ],
      "text/html": [
       "<div>\n",
       "<style scoped>\n",
       "    .dataframe tbody tr th:only-of-type {\n",
       "        vertical-align: middle;\n",
       "    }\n",
       "\n",
       "    .dataframe tbody tr th {\n",
       "        vertical-align: top;\n",
       "    }\n",
       "\n",
       "    .dataframe thead th {\n",
       "        text-align: right;\n",
       "    }\n",
       "</style>\n",
       "<table border=\"1\" class=\"dataframe\">\n",
       "  <thead>\n",
       "    <tr style=\"text-align: right;\">\n",
       "      <th></th>\n",
       "      <th>tags_method</th>\n",
       "      <th>just_model_method</th>\n",
       "    </tr>\n",
       "  </thead>\n",
       "  <tbody>\n",
       "    <tr>\n",
       "      <th>1</th>\n",
       "      <td>0.625731</td>\n",
       "      <td>0.672515</td>\n",
       "    </tr>\n",
       "    <tr>\n",
       "      <th>2</th>\n",
       "      <td>0.497835</td>\n",
       "      <td>0.562771</td>\n",
       "    </tr>\n",
       "    <tr>\n",
       "      <th>3-5</th>\n",
       "      <td>0.515213</td>\n",
       "      <td>0.537525</td>\n",
       "    </tr>\n",
       "    <tr>\n",
       "      <th>5+</th>\n",
       "      <td>0.463357</td>\n",
       "      <td>0.505910</td>\n",
       "    </tr>\n",
       "    <tr>\n",
       "      <th>all</th>\n",
       "      <td>0.539683</td>\n",
       "      <td>0.539683</td>\n",
       "    </tr>\n",
       "  </tbody>\n",
       "</table>\n",
       "</div>"
      ]
     },
     "metadata": {},
     "execution_count": 136
    }
   ],
   "metadata": {}
  }
 ],
 "metadata": {
  "kernelspec": {
   "name": "python3",
   "display_name": "Python 3.9.0 64-bit ('env': venv)"
  },
  "language_info": {
   "codemirror_mode": {
    "name": "ipython",
    "version": 3
   },
   "file_extension": ".py",
   "mimetype": "text/x-python",
   "name": "python",
   "nbconvert_exporter": "python",
   "pygments_lexer": "ipython3",
   "version": "3.9.0"
  },
  "interpreter": {
   "hash": "d88ce3146bd15929af18a4d80af41696be7c8ab5ccc06b4ae592a5dd9352cde0"
  }
 },
 "nbformat": 4,
 "nbformat_minor": 4
}