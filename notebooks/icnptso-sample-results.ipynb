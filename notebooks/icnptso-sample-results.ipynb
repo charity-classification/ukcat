{
 "cells": [
  {
   "cell_type": "code",
   "execution_count": 1,
   "id": "98004007",
   "metadata": {},
   "outputs": [],
   "source": [
    "import pandas as pd"
   ]
  },
  {
   "cell_type": "code",
   "execution_count": 31,
   "id": "88677c57",
   "metadata": {},
   "outputs": [
    {
     "name": "stderr",
     "output_type": "stream",
     "text": [
      "c:\\users\\drkan\\code\\ukcat\\env\\lib\\site-packages\\IPython\\core\\interactiveshell.py:3441: DtypeWarning: Columns (1,8,16) have mixed types.Specify dtype option on import or set low_memory=False.\n",
      "  exec(code_obj, self.user_global_ns, self.user_ns)\n"
     ]
    }
   ],
   "source": [
    "icnptso_cats = pd.read_csv(\"../data/icnptso.csv\")\n",
    "icnptso = pd.read_csv(\"../data/charities_active-icnptso.csv\", index_col=\"org_id\")\n",
    "charities = pd.read_csv(\"../data/charities_active.csv\", index_col=\"org_id\")\n",
    "\n",
    "icnptso_cats.loc[:, \"code\"] = icnptso_cats[\"Sub-group\"].fillna(icnptso_cats[\"Group\"]).fillna(icnptso_cats[\"Section\"])\n",
    "icnptso_cats = icnptso_cats.set_index(\"code\")\n",
    "\n",
    "charities = charities.join(\n",
    "    icnptso.join(icnptso_cats, on=\"icnptso_code\", how=\"left\"),\n",
    "    how=\"left\",\n",
    ")\n",
    "\n",
    "charities.loc[:, \"income_band\"] = pd.cut(\n",
    "    charities[\"income\"],\n",
    "    bins=[0, 10_000, 100_000, 1_000_000, 10_000_000, float(\"inf\")],\n",
    "    labels=[\"Under £10k\", \"£10k-£100k\", \"£100k-£1m\", \"£1m-£10m\", \"Over £10m\"],\n",
    ")"
   ]
  },
  {
   "cell_type": "code",
   "execution_count": 32,
   "id": "e21fd83d",
   "metadata": {},
   "outputs": [
    {
     "data": {
      "text/plain": [
       "Under £10k    65568\n",
       "£10k-£100k    68889\n",
       "£100k-£1m     33449\n",
       "£1m-£10m       7683\n",
       "Over £10m      1773\n",
       "Name: income_band, dtype: int64"
      ]
     },
     "execution_count": 32,
     "metadata": {},
     "output_type": "execute_result"
    }
   ],
   "source": [
    "charities.income_band.value_counts().sort_index()"
   ]
  },
  {
   "cell_type": "code",
   "execution_count": 36,
   "id": "2e0f4284",
   "metadata": {},
   "outputs": [
    {
     "data": {
      "text/html": [
       "<div>\n",
       "<style scoped>\n",
       "    .dataframe tbody tr th:only-of-type {\n",
       "        vertical-align: middle;\n",
       "    }\n",
       "\n",
       "    .dataframe tbody tr th {\n",
       "        vertical-align: top;\n",
       "    }\n",
       "\n",
       "    .dataframe thead th {\n",
       "        text-align: right;\n",
       "    }\n",
       "</style>\n",
       "<table border=\"1\" class=\"dataframe\">\n",
       "  <thead>\n",
       "    <tr style=\"text-align: right;\">\n",
       "      <th>source</th>\n",
       "      <th>ccew</th>\n",
       "      <th>ccni</th>\n",
       "      <th>oscr</th>\n",
       "    </tr>\n",
       "    <tr>\n",
       "      <th>income_band</th>\n",
       "      <th></th>\n",
       "      <th></th>\n",
       "      <th></th>\n",
       "    </tr>\n",
       "  </thead>\n",
       "  <tbody>\n",
       "    <tr>\n",
       "      <th>Under £10k</th>\n",
       "      <td>55272</td>\n",
       "      <td>1858</td>\n",
       "      <td>8438</td>\n",
       "    </tr>\n",
       "    <tr>\n",
       "      <th>£10k-£100k</th>\n",
       "      <td>58352</td>\n",
       "      <td>2107</td>\n",
       "      <td>8430</td>\n",
       "    </tr>\n",
       "    <tr>\n",
       "      <th>£100k-£1m</th>\n",
       "      <td>28111</td>\n",
       "      <td>1323</td>\n",
       "      <td>4015</td>\n",
       "    </tr>\n",
       "    <tr>\n",
       "      <th>£1m-£10m</th>\n",
       "      <td>6328</td>\n",
       "      <td>188</td>\n",
       "      <td>1167</td>\n",
       "    </tr>\n",
       "    <tr>\n",
       "      <th>Over £10m</th>\n",
       "      <td>1347</td>\n",
       "      <td>26</td>\n",
       "      <td>400</td>\n",
       "    </tr>\n",
       "  </tbody>\n",
       "</table>\n",
       "</div>"
      ],
      "text/plain": [
       "source        ccew  ccni  oscr\n",
       "income_band                   \n",
       "Under £10k   55272  1858  8438\n",
       "£10k-£100k   58352  2107  8430\n",
       "£100k-£1m    28111  1323  4015\n",
       "£1m-£10m      6328   188  1167\n",
       "Over £10m     1347    26   400"
      ]
     },
     "execution_count": 36,
     "metadata": {},
     "output_type": "execute_result"
    }
   ],
   "source": [
    "pd.crosstab(\n",
    "    charities[\"income_band\"],\n",
    "    charities[\"source\"],\n",
    ")"
   ]
  },
  {
   "cell_type": "code",
   "execution_count": 40,
   "id": "e476e5a6",
   "metadata": {},
   "outputs": [],
   "source": [
    "groups = charities.groupby([\"income_band\", \"source\"]).size()"
   ]
  },
  {
   "cell_type": "code",
   "execution_count": 52,
   "id": "280db550",
   "metadata": {},
   "outputs": [],
   "source": [
    "pd.concat([\n",
    "    charities[\n",
    "        (charities[\"income_band\"]==index[0]) & (charities[\"source\"]==index[1])\n",
    "    ].sample(20)\n",
    "    for index, value in groups.iteritems()\n",
    "]).to_csv(\"../data/icnptso-to-test.csv\")"
   ]
  },
  {
   "cell_type": "code",
   "execution_count": null,
   "id": "bd996a32",
   "metadata": {},
   "outputs": [],
   "source": []
  }
 ],
 "metadata": {
  "kernelspec": {
   "display_name": "Python 3 (ipykernel)",
   "language": "python",
   "name": "python3"
  },
  "language_info": {
   "codemirror_mode": {
    "name": "ipython",
    "version": 3
   },
   "file_extension": ".py",
   "mimetype": "text/x-python",
   "name": "python",
   "nbconvert_exporter": "python",
   "pygments_lexer": "ipython3",
   "version": "3.9.0"
  }
 },
 "nbformat": 4,
 "nbformat_minor": 5
}
